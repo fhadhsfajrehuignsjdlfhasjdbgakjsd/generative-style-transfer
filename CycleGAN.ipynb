{
  "nbformat": 4,
  "nbformat_minor": 0,
  "metadata": {
    "colab": {
      "name": "CycleGAN.ipynb",
      "provenance": [],
      "collapsed_sections": []
    },
    "kernelspec": {
      "name": "python3",
      "display_name": "Python 3"
    },
    "accelerator": "GPU"
  },
  "cells": [
    {
      "cell_type": "markdown",
      "metadata": {
        "id": "xxwdqxMfzEC-",
        "colab_type": "text"
      },
      "source": [
        "# CycleGAN implemented in Keras"
      ]
    },
    {
      "cell_type": "markdown",
      "metadata": {
        "id": "HU5CdRP1zIed",
        "colab_type": "text"
      },
      "source": [
        "![alt text](https://junyanz.github.io/CycleGAN/images/cyclegan_blogs.jpg)"
      ]
    },
    {
      "cell_type": "markdown",
      "metadata": {
        "id": "9hUUuAXZeyjQ",
        "colab_type": "text"
      },
      "source": [
        "## Mount google drive"
      ]
    },
    {
      "cell_type": "code",
      "metadata": {
        "id": "AYS0-igpeyCX",
        "colab_type": "code",
        "outputId": "7de5aaef-424e-49c8-9355-f3ca16d8dc57",
        "colab": {
          "base_uri": "https://localhost:8080/",
          "height": 122
        }
      },
      "source": [
        "from google.colab import drive\n",
        "import os\n",
        "drive.mount('/content/drive')\n",
        "os.chdir('/content/drive/My Drive/sirius/')"
      ],
      "execution_count": 0,
      "outputs": [
        {
          "output_type": "stream",
          "text": [
            "Go to this URL in a browser: https://accounts.google.com/o/oauth2/auth?client_id=947318989803-6bn6qk8qdgf4n4g3pfee6491hc0brc4i.apps.googleusercontent.com&redirect_uri=urn%3Aietf%3Awg%3Aoauth%3A2.0%3Aoob&scope=email%20https%3A%2F%2Fwww.googleapis.com%2Fauth%2Fdocs.test%20https%3A%2F%2Fwww.googleapis.com%2Fauth%2Fdrive%20https%3A%2F%2Fwww.googleapis.com%2Fauth%2Fdrive.photos.readonly%20https%3A%2F%2Fwww.googleapis.com%2Fauth%2Fpeopleapi.readonly&response_type=code\n",
            "\n",
            "Enter your authorization code:\n",
            "··········\n",
            "Mounted at /content/drive\n"
          ],
          "name": "stdout"
        }
      ]
    },
    {
      "cell_type": "markdown",
      "metadata": {
        "id": "a38qYd1VqVy9",
        "colab_type": "text"
      },
      "source": [
        "## Imports"
      ]
    },
    {
      "cell_type": "code",
      "metadata": {
        "id": "iOEbqHIGKdHM",
        "colab_type": "code",
        "outputId": "7a47f085-f1f4-4123-b653-d7d18eb96677",
        "colab": {
          "base_uri": "https://localhost:8080/",
          "height": 34
        }
      },
      "source": [
        "import numpy as np\n",
        "import os\n",
        "import tarfile\n",
        "import urllib\n",
        "from keras.preprocessing import image as kimage\n",
        "import keras\n",
        "from keras.models import Sequential, Model\n",
        "from keras.layers import *\n",
        "import matplotlib.pyplot as plt\n",
        "from scipy.signal import savgol_filter\n",
        "from PIL import Image\n",
        "from keras.optimizers import Adam"
      ],
      "execution_count": 0,
      "outputs": [
        {
          "output_type": "stream",
          "text": [
            "Using TensorFlow backend.\n"
          ],
          "name": "stderr"
        }
      ]
    },
    {
      "cell_type": "markdown",
      "metadata": {
        "id": "iuh9lzDiGW6p",
        "colab_type": "text"
      },
      "source": [
        "## Disable warnings"
      ]
    },
    {
      "cell_type": "code",
      "metadata": {
        "id": "hBW27RHAGYJj",
        "colab_type": "code",
        "colab": {}
      },
      "source": [
        "import warnings\n",
        "warnings.filterwarnings('ignore')"
      ],
      "execution_count": 0,
      "outputs": []
    },
    {
      "cell_type": "markdown",
      "metadata": {
        "id": "Du49WaXhKdVe",
        "colab_type": "text"
      },
      "source": [
        "## Load dataset"
      ]
    },
    {
      "cell_type": "markdown",
      "metadata": {
        "id": "CcW_NwsIZz7p",
        "colab_type": "text"
      },
      "source": [
        "### Download data and unpack it if necessary"
      ]
    },
    {
      "cell_type": "code",
      "metadata": {
        "id": "6EY79OvvKlt4",
        "colab_type": "code",
        "outputId": "b13b90f1-d7b5-4d6d-afd0-4c004ac158e8",
        "colab": {
          "base_uri": "https://localhost:8080/",
          "height": 51
        }
      },
      "source": [
        "import shutil\n",
        "import random\n",
        "\n",
        "BATCH_SIZE = 2\n",
        "folder_name = 'horse2zebra/'\n",
        "x_name = 'trainA'\n",
        "y_name = 'trainB'\n",
        "\n",
        "x_PATH = folder_name + 'train/A/'\n",
        "y_PATH = folder_name + 'train/B/'\n",
        "\n",
        "if 'horse2zebra' not in os.listdir():\n",
        "  # this two commands run whole fucking life\n",
        "  !wget https://people.eecs.berkeley.edu/~taesung_park/CycleGAN/datasets/horse2zebra.zip\n",
        "  !unzip horse2zebra.zip\n",
        "  os.mkdir(folder_name + 'train')\n",
        "  os.mkdir(folder_name + 'train/' + 'A/')\n",
        "  os.mkdir(folder_name + 'train/' + 'B/')\n",
        "  shutil.move(folder_name + x_name, x_PATH)\n",
        "  shutil.move(folder_name + y_name, y_PATH)\n",
        "  !rm -rf horse2zebra.zip\n",
        "  '''Make len(X) % batch size == 0'''\n",
        "  for i in range(len(os.listdir(x_PATH + '/trainA')) % BATCH_SIZE):\n",
        "    fname = x_PATH + '/trainA/' + random.choice(os.listdir(x_PATH + '/trainA'))\n",
        "    os.remove(fname)\n",
        "\n",
        "  for i in range(len(os.listdir(y_PATH + '/trainB')) % BATCH_SIZE):\n",
        "    fname = y_PATH + '/trainB/' + random.choice(os.listdir(y_PATH + '/trainB'))\n",
        "    os.remove(fname)\n",
        "\n",
        "print(len(os.listdir(y_PATH + '/trainB')) % BATCH_SIZE)\n",
        "print(len(os.listdir(y_PATH + '/trainB')) % BATCH_SIZE)"
      ],
      "execution_count": 0,
      "outputs": [
        {
          "output_type": "stream",
          "text": [
            "0\n",
            "0\n"
          ],
          "name": "stdout"
        }
      ]
    },
    {
      "cell_type": "markdown",
      "metadata": {
        "id": "WljL_wCtZ5cV",
        "colab_type": "text"
      },
      "source": [
        "### Create dataflow"
      ]
    },
    {
      "cell_type": "code",
      "metadata": {
        "id": "2teSCZ_UZ8jp",
        "colab_type": "code",
        "outputId": "af885509-a28f-41ef-c281-663f75d847a6",
        "colab": {
          "base_uri": "https://localhost:8080/",
          "height": 51
        }
      },
      "source": [
        "IMAGE_SHAPE = (256, 256, 3)\n",
        "HALF_IMAGE_SHAPE = (256, 128, 3)\n",
        "HALF_BATCH_SIZE = BATCH_SIZE // 2\n",
        "\n",
        "datagen = keras.preprocessing.image.ImageDataGenerator(\n",
        "  rescale=1.0/255,\n",
        ")\n",
        "\n",
        "# Generator which yields train batches\n",
        "x_generator = datagen.flow_from_directory(\n",
        "    directory=x_PATH,\n",
        "    target_size=IMAGE_SHAPE[:2],\n",
        "    color_mode=\"rgb\",\n",
        "    batch_size=BATCH_SIZE,\n",
        "    class_mode='binary',\n",
        "    shuffle=True,\n",
        "    seed=42\n",
        ")\n",
        "\n",
        "y_generator = datagen.flow_from_directory(\n",
        "    directory=y_PATH,\n",
        "    target_size=IMAGE_SHAPE[:2],\n",
        "    color_mode=\"rgb\",\n",
        "    batch_size=BATCH_SIZE,\n",
        "    class_mode='binary',\n",
        "    shuffle=True,\n",
        "    seed=42\n",
        ")\n",
        "\n",
        "class BatchWithCache(object):\n",
        "  '''This class is for training discriminator'''\n",
        "  def __init__(self, batch_size, batch_generator, image_generator):\n",
        "    self.batch_size = batch_size\n",
        "    self.hb = batch_size // 2\n",
        "    self.cache = np.empty((self.hb,) + IMAGE_SHAPE)\n",
        "    self.bg = batch_generator\n",
        "    self.ig = image_generator\n",
        "    \n",
        "  def get(self):\n",
        "      '''returns fake images with labels'''\n",
        "      batch = np.empty((self.batch_size,) + IMAGE_SHAPE)\n",
        "      samples = next(self.bg)[0]\n",
        "      generated = self.ig.predict(samples)\n",
        "      if self.cache.size != 0:  # there is cache\n",
        "        batch[:self.hb] = self.cache[:]\n",
        "        batch[self.hb:] = generated[:self.hb]\n",
        "        self.cache = generated[self.hb:]\n",
        "      else:\n",
        "        batch = generated[:]\n",
        "        cache = generated[self.hb:]\n",
        "      \n",
        "      assert batch.shape[0] == self.batch_size\n",
        "      return (batch[:, :, :, :], np.zeros((self.batch_size,)))"
      ],
      "execution_count": 0,
      "outputs": [
        {
          "output_type": "stream",
          "text": [
            "Found 1064 images belonging to 1 classes.\n",
            "Found 1328 images belonging to 1 classes.\n"
          ],
          "name": "stdout"
        }
      ]
    },
    {
      "cell_type": "markdown",
      "metadata": {
        "id": "-Nh9Oli7kBHe",
        "colab_type": "text"
      },
      "source": [
        "## Unet creator"
      ]
    },
    {
      "cell_type": "code",
      "metadata": {
        "id": "n29zQfawkCCT",
        "colab_type": "code",
        "colab": {}
      },
      "source": [
        "from keras.models import Model, load_model\n",
        "from keras.layers import Input, BatchNormalization, Activation, Dense, Dropout\n",
        "from keras.layers.core import Lambda, RepeatVector, Reshape\n",
        "from keras.layers.convolutional import Conv2D, Conv2DTranspose\n",
        "from keras.layers.pooling import MaxPooling2D, GlobalMaxPool2D\n",
        "from keras.layers.merge import concatenate, add\n",
        "\n",
        "\n",
        "def conv2d_block(input_tensor, n_filters, kernel_size=3, batchnorm=True):\n",
        "    # first layer\n",
        "    x = Conv2D(filters=n_filters, kernel_size=(kernel_size, kernel_size), kernel_initializer=\"he_normal\",\n",
        "               padding=\"same\")(input_tensor)\n",
        "    if batchnorm:\n",
        "        x = BatchNormalization()(x)\n",
        "    x = Activation(\"relu\")(x)\n",
        "    # second layer\n",
        "    x = Conv2D(filters=n_filters, kernel_size=(kernel_size, kernel_size), kernel_initializer=\"he_normal\",\n",
        "               padding=\"same\")(x)\n",
        "    if batchnorm:\n",
        "        x = BatchNormalization()(x)\n",
        "    x = Activation(\"relu\")(x)\n",
        "    return x\n",
        "\n",
        "\n",
        "def get_unet(input_img, n_filters=16, dropout=0.5, batchnorm=True, name=\"Generator\", o_name=\"Generator_output\"):\n",
        "    # contracting path\n",
        "    c1 = conv2d_block(input_img, n_filters=n_filters*1, kernel_size=3, batchnorm=batchnorm)\n",
        "    p1 = MaxPooling2D((2, 2)) (c1)\n",
        "    p1 = Dropout(dropout*0.5)(p1)\n",
        "\n",
        "    c2 = conv2d_block(p1, n_filters=n_filters*2, kernel_size=3, batchnorm=batchnorm)\n",
        "    p2 = MaxPooling2D((2, 2)) (c2)\n",
        "    p2 = Dropout(dropout)(p2)\n",
        "\n",
        "    c3 = conv2d_block(p2, n_filters=n_filters*4, kernel_size=3, batchnorm=batchnorm)\n",
        "    p3 = MaxPooling2D((2, 2)) (c3)\n",
        "    p3 = Dropout(dropout)(p3)\n",
        "\n",
        "    c4 = conv2d_block(p3, n_filters=n_filters*8, kernel_size=3, batchnorm=batchnorm)\n",
        "    p4 = MaxPooling2D(pool_size=(2, 2)) (c4)\n",
        "    p4 = Dropout(dropout)(p4)\n",
        "    \n",
        "    c5 = conv2d_block(p4, n_filters=n_filters*16, kernel_size=3, batchnorm=batchnorm)\n",
        "    \n",
        "    # expansive path\n",
        "    u6 = Conv2DTranspose(n_filters*8, (3, 3), strides=(2, 2), padding='same') (c5)\n",
        "    u6 = concatenate([u6, c4])\n",
        "    u6 = Dropout(dropout)(u6)\n",
        "    c6 = conv2d_block(u6, n_filters=n_filters*8, kernel_size=3, batchnorm=batchnorm)\n",
        "\n",
        "    u7 = Conv2DTranspose(n_filters*4, (3, 3), strides=(2, 2), padding='same') (c6)\n",
        "    u7 = concatenate([u7, c3])\n",
        "    u7 = Dropout(dropout)(u7)\n",
        "    c7 = conv2d_block(u7, n_filters=n_filters*4, kernel_size=3, batchnorm=batchnorm)\n",
        "\n",
        "    u8 = Conv2DTranspose(n_filters*2, (3, 3), strides=(2, 2), padding='same') (c7)\n",
        "    u8 = concatenate([u8, c2])\n",
        "    u8 = Dropout(dropout)(u8)\n",
        "    c8 = conv2d_block(u8, n_filters=n_filters*2, kernel_size=3, batchnorm=batchnorm)\n",
        "\n",
        "    u9 = Conv2DTranspose(n_filters*1, (3, 3), strides=(2, 2), padding='same') (c8)\n",
        "    u9 = concatenate([u9, c1], axis=3)\n",
        "    u9 = Dropout(dropout)(u9)\n",
        "    c9 = conv2d_block(u9, n_filters=n_filters*1, kernel_size=3, batchnorm=batchnorm)\n",
        "    \n",
        "    outputs = Conv2D(3, (1, 1), activation='sigmoid', name=o_name) (c9)\n",
        "    model = Model(inputs=[input_img], outputs=[outputs], name=name)\n",
        "    return model"
      ],
      "execution_count": 0,
      "outputs": []
    },
    {
      "cell_type": "markdown",
      "metadata": {
        "id": "MwyKEUH0Kk6v",
        "colab_type": "text"
      },
      "source": [
        "## Helper functions"
      ]
    },
    {
      "cell_type": "code",
      "metadata": {
        "id": "AcbHin8znc4t",
        "colab_type": "code",
        "colab": {}
      },
      "source": [
        "def noisy(images):\n",
        "  '''add noise to each picture in array'''\n",
        "  imgs = np.copy(images)\n",
        "  for i in range(len(imgs)):\n",
        "    image = imgs[i]\n",
        "    row,col,ch= image.shape\n",
        "    mean = 0\n",
        "    var = 0.1\n",
        "    sigma = var**0.5\n",
        "    gauss = np.random.normal(mean,sigma,(row,col,ch))\n",
        "    gauss = gauss.reshape(row,col,ch)\n",
        "    imgs[i] = image + gauss\n",
        "  return imgs\n",
        "\n",
        "def on(name):\n",
        "  '''get output layer name'''\n",
        "  return name + \"_output\"\n",
        "\n",
        "def inn(name):\n",
        "  '''get input layer name'''\n",
        "  return name + \"_input\"\n",
        "\n",
        "def sb(x):\n",
        "  '''scale image back to normal condition'''\n",
        "  return x * 255\n",
        "\n",
        "def concat_images(imga, imgb):\n",
        "    \"\"\"\n",
        "    Combines two color image ndarrays side-by-side.\n",
        "    \"\"\"\n",
        "    ha,wa = imga.shape[:2]\n",
        "    hb,wb = imgb.shape[:2]\n",
        "    max_height = np.max([ha, hb])\n",
        "    total_width = wa+wb\n",
        "    new_img = np.zeros(shape=(max_height, total_width, 3))\n",
        "    new_img[:ha,:wa]=imga\n",
        "    new_img[:hb,wa:wa+wb]=imgb\n",
        "    return new_img.astype('uint8')\n",
        "  \n",
        "def plot_img(i, save_name=None):\n",
        "  plt.imshow(i)\n",
        "  plt.show()\n",
        "  if save_name is not None:\n",
        "    img = Image.fromarray(i)\n",
        "    img.save(save_name)\n",
        "    \n",
        "def unison_shuffled_copies(a, b):\n",
        "    assert len(a) == len(b)\n",
        "    p = np.random.permutation(len(a))\n",
        "    return a[p], b[p]"
      ],
      "execution_count": 0,
      "outputs": []
    },
    {
      "cell_type": "markdown",
      "metadata": {
        "id": "uaPShLK9pZza",
        "colab_type": "text"
      },
      "source": [
        "## Main cycle gan class which makes all the fun"
      ]
    },
    {
      "cell_type": "code",
      "metadata": {
        "id": "jS2uaanEpj-0",
        "colab_type": "code",
        "colab": {}
      },
      "source": [
        "class CycleGAN(object):\n",
        "  '''\n",
        "  X is X\n",
        "  Y is Y\n",
        "  '''\n",
        "  \n",
        "  Gxy_NAME = 'Generator_xy'\n",
        "  Gyx_NAME = 'Generator_yx'\n",
        "  \n",
        "  Dx_NAME = 'Discriminator_x'\n",
        "  Dy_NAME = 'Discriminator_y'  \n",
        "\n",
        "\n",
        "  def __init__(\n",
        "      self, x_generator, y_generator\n",
        "  ):\n",
        "    self.plot_iter = 5\n",
        "    \n",
        "    self.x_generator, self.y_generator = x_generator, y_generator\n",
        "\n",
        "    '''object to control training history'''\n",
        "    self.histories = {\n",
        "        'GxyGyx': [],\n",
        "        'GyxGxy': [],\n",
        "        'GxyDy' : [],\n",
        "        'GyxDx': [],\n",
        "        'Dy': [],\n",
        "        'Dx': [],\n",
        "    }\n",
        "    \n",
        "    self.optimizer = Adam(0.0002, 0.5)\n",
        "\n",
        "    y_input = Input(IMAGE_SHAPE, name='y_input')\n",
        "    \n",
        "    '''these models are only trained in bundle'''\n",
        "    self.Gxy = self.create_generator(\n",
        "      in_name=inn(self.Gxy_NAME), o_name=on(self.Gxy_NAME), name=self.Gxy_NAME\n",
        "    )\n",
        "    self.Gyx = self.create_generator(\n",
        "      in_name=inn(self.Gyx_NAME), o_name=on(self.Gyx_NAME), name=self.Gyx_NAME\n",
        "    )\n",
        "    '''six models necessary for training'''\n",
        "    '''two models to train discriminators on fake and real images'''\n",
        "    self.Dx = self.create_discriminator(\n",
        "      in_name=inn(self.Dx_NAME), o_name=on(self.Dx_NAME), name=self.Dx_NAME, dropout_r=0.0\n",
        "    )\n",
        "    self.Dy = self.create_discriminator(\n",
        "      in_name=inn(self.Dy_NAME), o_name=on(self.Dy_NAME), name=self.Dy_NAME, dropout_r=0.0\n",
        "    )\n",
        "\n",
        "    '''two models to train generators using remodeling'''\n",
        "    Gxy_input1 = Input(IMAGE_SHAPE, name='x_input')\n",
        "    Gxy_output1 = self.Gxy(Gxy_input1)\n",
        "    Gyx_output1 = self.Gyx(Gxy_output1)\n",
        "    self.GxyGyx = Model(Gxy_input1, Gyx_output1)  # x -> Gxy -> y -> Gyx -> x\n",
        "    self.GxyGyx.compile(\n",
        "      loss='mae', optimizer=self.optimizer\n",
        "    )\n",
        "    \n",
        "    Gyx_input1 = Input(IMAGE_SHAPE, name='y_input')\n",
        "    Gyx_output1 = self.Gyx(Gyx_input1)\n",
        "    Gxy_output1 = self.Gxy(Gyx_output1)\n",
        "    self.GyxGxy = Model(Gyx_input1, Gxy_output1)  # y -> Gyx -> x -> Gxy -> y\n",
        "    self.GyxGxy.compile(\n",
        "      loss='mae', optimizer=self.optimizer\n",
        "    )\n",
        "\n",
        "    '''two models to train generators using discriminator'''\n",
        "    self.Dy.trainable = False\n",
        "    Gxy_input2 = Input(IMAGE_SHAPE, name='x_input')\n",
        "    Gxy_output2 = self.Gxy(Gxy_input2)\n",
        "    Dy_output = self.Dy(Gxy_output2)\n",
        "    self.GxyDy = Model(Gxy_input2, Dy_output) # x -> Gxy -> y -> Dy -> [0, 1]\n",
        "    self.GxyDy.compile(\n",
        "      loss='mse', optimizer=self.optimizer\n",
        "    )\n",
        "    self.Dx.trainable = False\n",
        "    Gyx_input2 = Input(IMAGE_SHAPE, name='y_input')\n",
        "    Gyx_output2 = self.Gyx(Gyx_input2)\n",
        "    Dx_output = self.Dx(Gyx_output2)\n",
        "    self.GyxDx = Model(Gyx_input2, Dx_output)  # y -> Gyx -> x -> Dx -> [0, 1]\n",
        "    self.GyxDx.compile(\n",
        "      loss='mse', optimizer=self.optimizer\n",
        "    )\n",
        "    \n",
        "    '''generators of fake images'''\n",
        "    self.fake_Y_generator = BatchWithCache(\n",
        "      BATCH_SIZE, self.x_generator, self.Gxy\n",
        "    )\n",
        "\n",
        "    self.fake_X_generator = BatchWithCache(\n",
        "      BATCH_SIZE, self.y_generator, self.Gyx\n",
        "    )\n",
        "\n",
        "\n",
        "  def create_generator(self, in_name='Generator input', name='Generator', o_name='Generator output'):\n",
        "    inp = Input(IMAGE_SHAPE, name=in_name)\n",
        "    gen = get_unet(inp, name=name, o_name=o_name)\n",
        "    gen.compile(\n",
        "      loss='mae', optimizer=self.optimizer\n",
        "    )\n",
        "    return gen\n",
        "\n",
        "\n",
        "  def create_discriminator(\n",
        "      self, name=\"Discriminator\", \n",
        "      o_name=\"Discriminator_output\", \n",
        "      in_name='Discriminator_input',\n",
        "      dropout_r=0.5):\n",
        "    inp = Input(IMAGE_SHAPE, name=in_name)\n",
        "    c1_b1 = Conv2D(512, kernel_size=3, padding='same')(inp)\n",
        "    c2_b1 = Conv2D(256, kernel_size=3, padding='same')(c1_b1)\n",
        "    mp_b1 = MaxPooling2D()(c2_b1)\n",
        "    d_b1 = Dropout(dropout_r)(mp_b1)\n",
        "    \n",
        "    c1_b2 = Conv2D(128, kernel_size=3, padding='same')(d_b1)\n",
        "    c2_b2 = Conv2D(64, kernel_size=3, padding='same')(c1_b2)\n",
        "    mp_b2 = MaxPooling2D()(c2_b2)\n",
        "    d_b2 = Dropout(dropout_r)(mp_b2)\n",
        "    \n",
        "    c1_b3 = Conv2D(32, kernel_size=3, padding='same')(d_b2)\n",
        "    c2_b3 = Conv2D(16, kernel_size=3, padding='same')(c1_b3)\n",
        "    mp_b3 = MaxPooling2D()(c2_b3)\n",
        "    d_b3 = Dropout(dropout_r)(mp_b3)\n",
        "    \n",
        "    f = Flatten()(d_b3)\n",
        "    d1 = Dense(512)(f)\n",
        "    d2 = Dense(256)(d1)\n",
        "    d3 = Dense(1, activation='sigmoid', name=o_name)(d2)\n",
        "    disc = Model(inputs=[inp], outputs=d3, name=name)\n",
        "    disc.compile(\n",
        "      loss='mse', optimizer=self.optimizer,  # metrics=['acc']\n",
        "    )\n",
        "    return disc\n",
        "  \n",
        "  \n",
        "  def train(self, epochs):\n",
        "    for i in range(epochs):\n",
        "      X = noisy(next(self.x_generator)[0])\n",
        "      Y = noisy(next(self.y_generator)[0])\n",
        "      fake_X = self.fake_X_generator.get()[0]\n",
        "      fake_Y = self.fake_Y_generator.get()[0]\n",
        "      fake = np.zeros(BATCH_SIZE)\n",
        "      real = np.ones(BATCH_SIZE)\n",
        "      '''first train discriminator for some epochs'''\n",
        "      '''train discriminators on real images'''\n",
        "      d_X = np.concatenate((X, fake_X))\n",
        "      d_X_labels = np.concatenate((real, fake))\n",
        "      self.histories['Dx'].append(self.Dx.train_on_batch(d_X, d_X_labels))\n",
        "\n",
        "      d_Y = np.concatenate((Y, fake_Y))\n",
        "      d_Y_labels = np.concatenate((real, fake))\n",
        "      self.histories['Dy'].append(self.Dy.train_on_batch(d_Y, d_Y_labels))\n",
        "      \n",
        "      '''that might be optional'''\n",
        "      X = noisy(next(self.x_generator)[0])\n",
        "      Y = noisy(next(self.y_generator)[0])\n",
        "      fake_X = self.fake_X_generator.get()[0]\n",
        "      fake_Y = self.fake_Y_generator.get()[0]\n",
        "        \n",
        "      \n",
        "      '''optimize cycle consistency losses'''\n",
        "      self.histories['GxyGyx'].append(self.GxyGyx.train_on_batch(X, X))\n",
        "      self.histories['GyxGxy'].append(self.GyxGxy.train_on_batch(Y, Y))\n",
        "      \n",
        "      '''train generators'''\n",
        "      self.histories['GxyDy'].append(self.GxyDy.train_on_batch(X, real))\n",
        "      self.histories['GyxDx'].append(self.GyxDx.train_on_batch(Y, real))\n",
        "      \n",
        "      '''show review'''\n",
        "      if not (self.plot_iter % 1):\n",
        "        x = X[:1]\n",
        "        print(\"Iteration %d, x to fucking y\" % i)\n",
        "        initial_x = sb(x[0]).astype('uint8')\n",
        "        generated_y = sb(self.Gxy.predict(x)[0]).astype('uint8')\n",
        "        plot_img(concat_images(initial_x, generated_y))"
      ],
      "execution_count": 0,
      "outputs": []
    },
    {
      "cell_type": "code",
      "metadata": {
        "id": "N3sJyeGlqaL4",
        "colab_type": "code",
        "outputId": "7404ff0a-f90d-4379-bda3-8ed031313f85",
        "colab": {
          "base_uri": "https://localhost:8080/",
          "height": 377
        }
      },
      "source": [
        "cg = CycleGAN(x_generator, y_generator)"
      ],
      "execution_count": 0,
      "outputs": [
        {
          "output_type": "stream",
          "text": [
            "WARNING: Logging before flag parsing goes to stderr.\n",
            "W0720 06:23:23.177130 140205236504448 deprecation_wrapper.py:119] From /usr/local/lib/python3.6/dist-packages/keras/backend/tensorflow_backend.py:517: The name tf.placeholder is deprecated. Please use tf.compat.v1.placeholder instead.\n",
            "\n",
            "W0720 06:23:23.182770 140205236504448 deprecation_wrapper.py:119] From /usr/local/lib/python3.6/dist-packages/keras/backend/tensorflow_backend.py:74: The name tf.get_default_graph is deprecated. Please use tf.compat.v1.get_default_graph instead.\n",
            "\n",
            "W0720 06:23:23.184326 140205236504448 deprecation_wrapper.py:119] From /usr/local/lib/python3.6/dist-packages/keras/backend/tensorflow_backend.py:4185: The name tf.truncated_normal is deprecated. Please use tf.random.truncated_normal instead.\n",
            "\n",
            "W0720 06:23:23.222899 140205236504448 deprecation_wrapper.py:119] From /usr/local/lib/python3.6/dist-packages/keras/backend/tensorflow_backend.py:174: The name tf.get_default_session is deprecated. Please use tf.compat.v1.get_default_session instead.\n",
            "\n",
            "W0720 06:23:23.223912 140205236504448 deprecation_wrapper.py:119] From /usr/local/lib/python3.6/dist-packages/keras/backend/tensorflow_backend.py:181: The name tf.ConfigProto is deprecated. Please use tf.compat.v1.ConfigProto instead.\n",
            "\n",
            "W0720 06:23:26.112798 140205236504448 deprecation_wrapper.py:119] From /usr/local/lib/python3.6/dist-packages/keras/backend/tensorflow_backend.py:1834: The name tf.nn.fused_batch_norm is deprecated. Please use tf.compat.v1.nn.fused_batch_norm instead.\n",
            "\n",
            "W0720 06:23:26.366918 140205236504448 deprecation_wrapper.py:119] From /usr/local/lib/python3.6/dist-packages/keras/backend/tensorflow_backend.py:3976: The name tf.nn.max_pool is deprecated. Please use tf.nn.max_pool2d instead.\n",
            "\n",
            "W0720 06:23:26.377218 140205236504448 deprecation.py:506] From /usr/local/lib/python3.6/dist-packages/keras/backend/tensorflow_backend.py:3445: calling dropout (from tensorflow.python.ops.nn_ops) with keep_prob is deprecated and will be removed in a future version.\n",
            "Instructions for updating:\n",
            "Please use `rate` instead of `keep_prob`. Rate should be set to `rate = 1 - keep_prob`.\n",
            "W0720 06:23:28.074247 140205236504448 deprecation_wrapper.py:119] From /usr/local/lib/python3.6/dist-packages/keras/optimizers.py:790: The name tf.train.Optimizer is deprecated. Please use tf.compat.v1.train.Optimizer instead.\n",
            "\n"
          ],
          "name": "stderr"
        }
      ]
    },
    {
      "cell_type": "markdown",
      "metadata": {
        "id": "9W9JKhX8QYeZ",
        "colab_type": "text"
      },
      "source": [
        "## Train model"
      ]
    },
    {
      "cell_type": "code",
      "metadata": {
        "id": "62Jw3oNB6Hm2",
        "colab_type": "code",
        "colab": {}
      },
      "source": [
        "cg.train(25)"
      ],
      "execution_count": 0,
      "outputs": []
    },
    {
      "cell_type": "markdown",
      "metadata": {
        "id": "MENujTn31NOD",
        "colab_type": "text"
      },
      "source": [
        "## Check losses "
      ]
    },
    {
      "cell_type": "code",
      "metadata": {
        "id": "S21JjI4-Kvwj",
        "colab_type": "code",
        "outputId": "e3448062-fe7e-4277-fe4f-e0c9dc161c87",
        "colab": {
          "base_uri": "https://localhost:8080/",
          "height": 286
        }
      },
      "source": [
        "print(\"Loss while training GxyGyx and GyxGxy\")\n",
        "plt.plot(cg.histories['GxyGyx'], color='r');\n",
        "plt.plot(cg.histories['GyxGxy'], color='b');"
      ],
      "execution_count": 0,
      "outputs": [
        {
          "output_type": "stream",
          "text": [
            "Loss while training GxyGyx and GyxGxy\n"
          ],
          "name": "stdout"
        },
        {
          "output_type": "display_data",
          "data": {
            "image/png": "[encoded data removed]",
            "text/plain": [
              "<Figure size 432x288 with 1 Axes>"
            ]
          },
          "metadata": {
            "tags": []
          }
        }
      ]
    },
    {
      "cell_type": "code",
      "metadata": {
        "id": "Yrg8Q9iR1376",
        "colab_type": "code",
        "colab": {}
      },
      "source": [
        "print(\"Loss while training GyxDx and GxyDy\")\n",
        "plt.plot(cg.histories['GyxDx'], color='r')\n",
        "plt.plot(cg.histories['GxyDy'], color='b')"
      ],
      "execution_count": 0,
      "outputs": []
    },
    {
      "cell_type": "code",
      "metadata": {
        "id": "odN5afz62DQH",
        "colab_type": "code",
        "colab": {}
      },
      "source": [
        "print(\"Loss while training Dx and Dy\")\n",
        "plt.plot(cg.histories['Dx'], color='r')\n",
        "plt.plot(cg.histories['Dy'], color='b')"
      ],
      "execution_count": 0,
      "outputs": []
    }
  ]
}